{
 "metadata": {
  "name": ""
 },
 "nbformat": 3,
 "nbformat_minor": 0,
 "worksheets": [
  {
   "cells": [
    {
     "cell_type": "markdown",
     "metadata": {},
     "source": [
      "# **Assignment5**"
     ]
    },
    {
     "cell_type": "markdown",
     "metadata": {},
     "source": [
      " ##### * \uacfc\ubaa9     : \uc2a4\ud06c\ub9bd\ud2b8 \ud504\ub85c\uadf8\ub798\ubc0d\n",
      " ##### * \ub2f4\ub2f9 \uad50\uc218 : \ud55c\uc5f0\ud76c \uad50\uc218\ub2d8\n",
      " ##### * \ud559\ubc88     : 2010136100\n",
      " ##### * \uc774\ub984     : \uc774\uc7ac\ud638"
     ]
    },
    {
     "cell_type": "markdown",
     "metadata": {},
     "source": [
      "###[1\ubc88 \ubb38\uc81c]\u00b6\n",
      "\ud074\ub798\uc2a4\uc640 \ubaa8\ub4c8\uc758 \uacf5\ud1b5\uc810\uacfc \ucc28\uc774\uc810\uc5d0 \ub300\ud574 \uc124\uba85\ud558\uc2dc\uc624."
     ]
    },
    {
     "cell_type": "markdown",
     "metadata": {},
     "source": [
      "\ud074\ub798\uc2a4\uc640 \ubaa8\ub4c8\uc758 \uacf5\ud1b5\uc810\uc740 \uc0c8\ub85c\uc6b4 \uc774\ub984\uacf5\uac04\uc744 \ub9cc\ub4e0\ub2e4\ub294 \uc810\uc774\ub2e4.\n",
      "\ucc28\uc774\uc810\uc73c\ub85c\ub294 \ubaa8\ub4c8\uc740 \ud30c\uc77c\uc601\uc5ed\uc5d0 \uc774\ub984\uacf5\uac04\uc744 \uac00\uc9c0\uace0, \ud074\ub798\uc2a4\ub294 \ud074\ub798\uc2a4 \uc601\uc5ed\ub0b4\ubd80\uc5d0 \uc774\ub984\uacf5\uac04\uc744 \uac00\uc9c4\ub2e4\ub294 \uc810\uc774\uba70, \ub610\ud55c \ud074\ub798\uc2a4\ub294 \uc778\uc2a4\ud134\uc2a4\ub97c \uc0ac\uc6a9\ud560 \uc218 \uc788\ub2e4\ub294 \uc810\uc774\ub2e4."
     ]
    },
    {
     "cell_type": "markdown",
     "metadata": {},
     "source": [
      "\n",
      "###[2\ubc88 \ubb38\uc81c]\n",
      "\ub2e4\ud615\uc131\uc5d0 \ub300\ud574 \uc124\uba85\ud558\uace0 \ub2e4\ud615\uc131\uc744 \ubcf4\uc5ec\uc8fc\ub294 \uc790\uc2e0\ub9cc\uc758 \ud30c\uc774\uc36c \ucf54\ub4dc \uc608\uc81c\ub97c \uc81c\uc2dc\ud558\uc2dc\uc624."
     ]
    },
    {
     "cell_type": "markdown",
     "metadata": {},
     "source": [
      "\ub2e4\ud615\uc131\uc774\ub780 \uc0c1\uc18d\uad00\uacc4\ub0b4\uc758 \ub2e4\ub978 \ud074\ub798\uc2a4\ub4e4\uc758 \uc778\uc2a4\ud134\uc2a4\ub4e4\uc774 \uac19\uc740 \uba64\ubc84\ud568\uc218 \ud638\ucd9c\uc5d0 \ub300\ud574 \uac01\uac01 \ub2e4\ub974\uac8c \ubc18\uc751\ud558\ub3c4\ub85d \ud558\ub294 \uae30\ub2a5\uc744 \ub73b\ud558\uba70, \uba54\uc368\ub4dc \uc624\ubc84\ub77c\uc774\ud2b8\ub97c \uc774\uc6a9\ud574 \uad6c\ud604\uc774 \uac00\ub2a5\ud558\ub2e4."
     ]
    },
    {
     "cell_type": "code",
     "collapsed": false,
     "input": [
      "class Language:\n",
      "    def printState(self):\n",
      "        print \"printState\"\n",
      "\n",
      "class C(Language):\n",
      "    def printState(self):\n",
      "        print \"printf\"\n",
      "        \n",
      "class CPlus(Language):\n",
      "    def printState(self):\n",
      "        print \"cout\"\n",
      "        \n",
      "class java(Language):\n",
      "    def printState(self):\n",
      "        print \"System.out.print\"\n",
      "        \n",
      "for each in (C(), CPlus(), java()):\n",
      "    each.printState()\n"
     ],
     "language": "python",
     "metadata": {},
     "outputs": [
      {
       "output_type": "stream",
       "stream": "stdout",
       "text": [
        "printf\n",
        "cout\n",
        "System.out.print\n"
       ]
      }
     ],
     "prompt_number": 1
    },
    {
     "cell_type": "markdown",
     "metadata": {},
     "source": [
      "\n",
      "###[3\ubc88 \ubb38\uc81c]\n",
      "\ub2e4\uc74c \uac01 \uc694\uad6c\uc0ac\ud56d \ubaa8\ub450\ub97c \ub9cc\uc871\uc2dc\ud0a4\ub294 Counter \ud074\ub798\uc2a4\ub97c \ucf54\ub529\ud558\uc2dc\uc624 (\uc815\ub2f5\uc744 \uac01 \uc694\uad6c\uc0ac\ud56d\ubcc4\ub85c \uc785\ub825\ud560 \ud544\uc694 \uc5c6\uc774 3\ubc88 \ubb38\uc81c\uc5d0 \ub300\ud574 1\uac1c\uc758 \ud074\ub798\uc2a4 \uc815\uc758 \ucf54\ub4dc\ub97c \uc81c\uc2dc\ud558\uba74 \ub41c\ub2e4.)\n",
      "\n",
      "- \uc694\uad6c\uc0ac\ud56d 1. \uc0dd\uc131\uc790\uc5d0 count \uac12\uacfc step \uac12\uc744 \uc778\uc790\ub85c \ubc1b\uc744 \uc218 \uc788\ub2e4.\n",
      "\n",
      "    - count: Counter \uc778\uc2a4\ud134\uc2a4\uac00 \uc9c0\ub2c8\ub294 \ucd08\uae30 \uc815\uc218 \uac12\n",
      "    - step: Counter \uc778\uc2a4\ud134\uc2a4\uc758 count\uac00 \uc99d\uac00\ub418\ub294 \uc99d\ubd84 (defalt \uac12: 1)\n",
      "        > \\>>> c = Counter(10) \n",
      "        \n",
      "        > \\>>> d = Counter(10, 2) \n",
      "\n",
      "- \uc694\uad6c\uc0ac\ud56d 2. \ub2e4\uc74c\uacfc \uac19\uc774 Counter\uc758 \uc778\uc2a4\ud134\uc2a4\ub97c \ucd9c\ub825\uc744 \ud574\uc8fc\ub294 __str__() \uba54\uc18c\ub4dc\ub97c Counter \ud074\ub798\uc2a4 \ub0b4\uc5d0 \uad6c\ud604\ud558\uc2dc\uc624.\n",
      "\n",
      "    > \\>>> print c \n",
      "    \n",
      "    > [Count (step: 1)] 10 \n",
      "    \n",
      "    > \\>>> print d \n",
      "    \n",
      "    > [Count (step: 2)] 10 \n",
      "\n",
      "- \uc694\uad6c\uc0ac\ud56d 3. \ub2e4\uc74c\uacfc \uac19\uc774 step\uc5d0 \uc8fc\uc5b4\uc9c4 \uc99d\ubd84\ub9cc\ud07c count\ub97c \uc99d\uac00\uc2dc\ud0a4\ub294 incr() \uba54\uc18c\ub4dc\ub97c Counter \ud074\ub798\uc2a4 \ub0b4\uc5d0 \uad6c\ud604\ud558\uc2dc\uc624.\n",
      "\n",
      "    > \\>>> c.incr() \n",
      "\n",
      "    > \\>>> d.incr() \n",
      "    \n",
      "    > \\>>> print c \n",
      "    \n",
      "    > [Count (step: 1)] 11 \n",
      "    \n",
      "    > \\>>> print d \n",
      "    \n",
      "    > [Count (step: 2)] 12 \n",
      "\n",
      "- \uc694\uad6c\uc0ac\ud56d 4. Counter \ud074\ub798\uc2a4 \ub0b4\uc5d0 \uad00\ub828 \uba54\uc18c\ub4dc\ub97c \ucd94\uac00\ud558\uc5ec \uc778\uc2a4\ud134\uc2a4 \uac1d\uccb4\ub97c \uc9c1\uc811 \ud638\ucd9c(call)\ud560 \uc218 \uc788\ub3c4\ub85d \ud558\uc2dc\uc624. \uc778\uc2a4\ud134\uc2a4 \uac1d\uccb4\ub97c \uc9c1\uc811 \ud638\ucd9c\ud588\uc744 \ub54c\uc5d0 \ub0b4\ubd80\uc801\uc73c\ub85c incr() \uba54\uc18c\ub4dc\ub97c \ud638\ucd9c\ud558\ub294 \ubc29\ubc95\uc73c\ub85c \uad6c\ud604\ud558\uc2dc\uc624.\n",
      "\n",
      "    > \\>>> c() \n",
      "    \n",
      "    > \\>>> d() \n",
      "    \n",
      "    > \\>>> print c \n",
      "    \n",
      "    > [Count (step: 1)] 12 \n",
      "    \n",
      "    > \\>>> print d \n",
      "    \n",
      "    > [Count (step: 2)] 14 \n",
      "\n",
      "- \uc694\uad6c\uc0ac\ud56d 5. \ub2e4\uc74c\uacfc \uac19\uc740 \ub450 \uac1c\uc758 \uc0b0\uc220 \uc5f0\uc0b0 (+, -)\uc774 \uc218\ud589\ub420 \uc218 \uc788\ub3c4\ub85d Counter \ud074\ub798\uc2a4 \ub0b4\uc5d0 \uad00\ub828 \uba54\uc18c\ub4dc\ub97c \ucd94\uac00\ud558\uc2dc\uc624.\n",
      "\n",
      "    > \\>>> c = c + 5 \n",
      "    \n",
      "    > \\>>> d = d - 5 \n",
      "    \n",
      "    > \\>>> print c \n",
      "    \n",
      "    > [Count (step: 1)] 17 \n",
      "    \n",
      "    > \\>>> print d \n",
      "    \n",
      "    > [Count (step: 2)] 9 \n",
      "\n",
      "- \uc694\uad6c\uc0ac\ud56d 6. \ub2e4\uc74c\uacfc \uac19\uc740 \uad00\uacc4\uc5f0\uc0b0 (>, <, ==)\uc774 \uc218\ud589\ub420 \uc218 \uc788\ub3c4\ub85d Counter \ud074\ub798\uc2a4 \ub0b4\uc5d0 \uad00\ub828 \uba54\uc18c\ub4dc\ub97c \ucd94\uac00\ud558\uc2dc\uc624.\n",
      "\n",
      "    > \\>>> print c > 10 \n",
      "    \n",
      "    > True \n",
      "    \n",
      "    > \\>>> print d > 10 \n",
      "    \n",
      "    > False \n",
      "    \n",
      "    > \\>>> print c < 10 \n",
      "    \n",
      "    > False \n",
      "    \n",
      "    > \\>>> print d < 10 \n",
      "    \n",
      "    > True \n",
      "    \n",
      "    > \\>>> print c == 17 \n",
      "    \n",
      "    > True \n",
      "    \n",
      "    > \\>>> print d != 9 \n",
      "    \n",
      "    > False "
     ]
    },
    {
     "cell_type": "code",
     "collapsed": false,
     "input": [
      "class Counter():\n",
      "    def __init__(self, count, step=1):\n",
      "        self.count = count\n",
      "        self.step = step\n",
      "    def __str__(self):\n",
      "        return '[Count:(step:' + str(self.step) + ')]' + str(self.count)\n",
      "    def incr(self):\n",
      "        self.count += self.step\n",
      "    def __call__(self):\n",
      "        self.incr()\n",
      "    def __add__(self, other):\n",
      "        self.count += other\n",
      "        return self\n",
      "    def __sub__(self, other):\n",
      "        self.count -= other\n",
      "        return self\n",
      "    def __cmp__(self, other):\n",
      "        return self.count - other"
     ],
     "language": "python",
     "metadata": {},
     "outputs": [],
     "prompt_number": 33
    },
    {
     "cell_type": "code",
     "collapsed": false,
     "input": [
      "c = Counter(10)\n",
      "d = Counter(10, 2)\n",
      "\n",
      "print c\n",
      "print d\n",
      "\n",
      "c.incr()\n",
      "d.incr()\n",
      "\n",
      "print c\n",
      "print d\n",
      "\n",
      "c()\n",
      "d()\n",
      "\n",
      "print c\n",
      "print d\n"
     ],
     "language": "python",
     "metadata": {},
     "outputs": [
      {
       "output_type": "stream",
       "stream": "stdout",
       "text": [
        "[Count:(step:1)]10\n",
        "[Count:(step:2)]10\n",
        "[Count:(step:1)]11\n",
        "[Count:(step:2)]12\n",
        "[Count:(step:1)]12\n",
        "[Count:(step:2)]14\n"
       ]
      }
     ],
     "prompt_number": 34
    },
    {
     "cell_type": "code",
     "collapsed": false,
     "input": [
      "c = c + 5\n",
      "d = d - 5\n",
      "\n",
      "print c\n",
      "print d\n"
     ],
     "language": "python",
     "metadata": {},
     "outputs": [
      {
       "output_type": "stream",
       "stream": "stdout",
       "text": [
        "[Count:(step:1)]17\n",
        "[Count:(step:2)]9\n"
       ]
      }
     ],
     "prompt_number": 35
    },
    {
     "cell_type": "code",
     "collapsed": false,
     "input": [
      "print c > 10\n",
      "print d > 10\n",
      "print c < 10\n",
      "print d < 10\n",
      "print c == 17\n",
      "print d != 9"
     ],
     "language": "python",
     "metadata": {},
     "outputs": [
      {
       "output_type": "stream",
       "stream": "stdout",
       "text": [
        "True\n",
        "False\n",
        "False\n",
        "True\n",
        "True\n",
        "False\n"
       ]
      }
     ],
     "prompt_number": 38
    },
    {
     "cell_type": "markdown",
     "metadata": {},
     "source": [
      "\n",
      "###[4\ubc88 \ubb38\uc81c]\n",
      "\ub2e4\uc74c\uc740 \ub0b4\uc7a5 \uc790\ub8cc\ud615 list\ub97c \uc11c\ube0c\ud074\ub798\uc2f1\ud558\uc5ec \ub9cc\ub4e0 MySet \ud074\ub798\uc2a4 \uc815\uc758 \ub0b4\uc6a9\uc774\ub2e4. \ub2e4\uc74c \ud074\ub798\uc2a4 \uc815\uc758\uc5d0\uc11c __init__(), __str()__(), elimicate_duplicate()\uc758 \uc138 \uac1c\uc758 \uba54\uc18c\ub4dc \ucf54\ub4dc \ub0b4\uc6a9\uc744 \uc790\uc2e0\uc774 \ub2e4\ub978 \uc0ac\ub78c\uc5d0\uac8c \uac00\ub974\uce5c\ub2e4\uace0 \uc0dd\uac01\ud558\uba70 \uc124\uba85\ud574\ubcf4\uc2dc\uc624.\n",
      "\n",
      "MySet\uc740 \uc9d1\ud569(Set) \uc790\ub8cc\ud615\uc744 \uc815\uc758\ud558\ub824\ub294 \uc758\ub3c4\ud558\uc5d0 \ub9cc\ub4e4\uc5b4\uc9c4 \ud074\ub798\uc2a4\uc774\ub2e4."
     ]
    },
    {
     "cell_type": "code",
     "collapsed": false,
     "input": [
      "class MySet(list):\n",
      "    def __init__(self, l):\n",
      "        for e in l:\n",
      "            self.append(e)\n",
      "        MySet.eliminate_duplicate(self)\n",
      "    \n",
      "    def __str__(self):\n",
      "        result = \"MySet: {\"\n",
      "        for e in self:\n",
      "            result = result + str(e) + \" ,\"\n",
      "        result = result[0:len(result)-2] + \"}\"\n",
      "        return result\n",
      "\n",
      "    @staticmethod    \n",
      "    def eliminate_duplicate(l):\n",
      "        s = []\n",
      "        for e in l:\n",
      "            if e not in s:\n",
      "                s.append(e)\n",
      "        l[:] = []\n",
      "        for e in s:\n",
      "            l.append(e)\n",
      "    ## \uad50\uc9d1\ud569 \uad6c\ud558\uae30\n",
      "    def __and__(self, B):\n",
      "        # list\ub97c \uc0c1\uc18d\ubc1b\uc544 list\ucc98\ub7fc \uc5ec\uaca8\uc9c0\ub294 instance\ub4e4\uc5d0 \ub300\ud574 set\ub0b4\uc7a5\ud568\uc218\ub97c \uc774\uc6a9\ud574 \uc9d1\ud569\uc790\ub8cc\ud615\uc73c\ub85c \ub9cc\ub4e4\uc5b4 \uad50\uc9d1\ud569 \uc5f0\uc0b0\uc744 \ud55c \ud6c4 \uacb0\uacfc\ub97c \ub2e4\uc2dc \ub9ac\uc2a4\ud2b8\ub85c \ubc18\ud658\ud574 \uc0c8\ub85c\uc6b4 \ud074\ub798\uc2a4\ub97c \ub9cc\ub4e4\uc5b4 \ubc18\ud658\ud55c\ub2e4.\n",
      "        return MySet(list(set(self).intersection(set(B))))\n",
      "    ## \ud569\uc9d1\ud569 \uad6c\ud558\uae30\n",
      "    def __or__(self, B):\n",
      "        return MySet(list(set(self).union(set(B))))\n",
      "    ## \ucc28\uc9d1\ud569 \uad6c\ud558\uae30\n",
      "    def __sub__(self, B):\n",
      "        return MySet(list(set(self).difference(set(B))))\n",
      "    \n",
      "if __name__ == \"__main__\":\n",
      "    s = MySet([1, 2, 2, 3])\n",
      "    print s\n",
      "    t = MySet([2, 3, 4, 5, 6, 7, 8, 8, 8, 8, 8, 9])\n",
      "    print t\n",
      "\n",
      "print dir(MySet)"
     ],
     "language": "python",
     "metadata": {},
     "outputs": [
      {
       "output_type": "stream",
       "stream": "stdout",
       "text": [
        "MySet: {1 ,2 ,3}\n",
        "MySet: {2 ,3 ,4 ,5 ,6 ,7 ,8 ,9}\n",
        "['__add__', '__and__', '__class__', '__contains__', '__delattr__', '__delitem__', '__delslice__', '__dict__', '__doc__', '__eq__', '__format__', '__ge__', '__getattribute__', '__getitem__', '__getslice__', '__gt__', '__hash__', '__iadd__', '__imul__', '__init__', '__iter__', '__le__', '__len__', '__lt__', '__module__', '__mul__', '__ne__', '__new__', '__or__', '__reduce__', '__reduce_ex__', '__repr__', '__reversed__', '__rmul__', '__setattr__', '__setitem__', '__setslice__', '__sizeof__', '__str__', '__sub__', '__subclasshook__', '__weakref__', 'append', 'count', 'eliminate_duplicate', 'extend', 'index', 'insert', 'pop', 'remove', 'reverse', 'sort']\n"
       ]
      }
     ],
     "prompt_number": 48
    },
    {
     "cell_type": "markdown",
     "metadata": {},
     "source": [
      "init() \uba54\uc18c\ub4dc\ub294 \uc0dd\uc131\uc790\ub85c\uc368 MySet\ud074\ub798\uc2a4\ub97c \uc0dd\uc131\ud560\ub54c \ud638\ucd9c\ub418\uba70 \uc790\uae30\uc790\uc2e0 self\uc640 \ub9ac\uc2a4\ud2b8\ub97c \uc778\uc790\ub85c \ubc1b\uc544 \ub9ac\uc2a4\ud2b8\uc5d0 \uc788\ub294 \uc6d0\uc18c\ub4e4\uc744 self\uc5d0 append\ud568\uc218\ub97c \ud1b5\ud574\uc11c \ub9ac\uc2a4\ud2b8 \uc6d0\uc18c\ub97c \ub9cc\ub4e0\ub2e4. list\ud074\ub798\uc2a4\ub97c \uc0c1\uc18d\ubc1b\uc558\uae30 \ub54c\ubb38\uc5d0 self\ub294 \uc774\ubbf8 \ube48 \ub9ac\uc2a4\ub4dc\ub85c \uc815\uc758\ub418\uc5b4 \uc788\ub2e4. \uadf8\ub7f0 \ud6c4 MySet.eliminate_duplicate(self)\ub97c \ud1b5\ud574\uc11c \uc911\ubcf5\ub41c \uc6d0\uc18c\ub97c \uc81c\uac70\ud574\uc8fc\ub294 \ud568\uc218\ub97c \ud638\ucd9c\ud55c\ub2e4.\n",
      "\n",
      "str() \uba54\uc18c\ub4dc\ub294 \ud074\ub798\uc2a4\uc758 \uc778\uc2a4\ud134\uc2a4\ub97c print\ud560\ub54c \ud638\ucd9c\ub418\uba70, __str__\uc5d0\uc11c return\ud558\ub294 \uac12 \ucd9c\ub825\ud574 \uc900\ub2e4. \uc5ec\uae30\uc5d0\uc11c\ub294 \uc9d1\ud569\ucc98\ub7fc \ud45c\ud604\ud558\uae30 \uc704\ud574\uc11c MySet:{ + \uc9d1\ud569\uc758 \uac01\uac01\uc758 \uc6d0\uc18c\ub4e4 + }\uacfc \uac19\uc740 \uc2dd\uc73c\ub85c __str__\uc744 \uc815\uc758\ud588\ub2e4. \n",
      "\n",
      "eliminate_duplicate(l)\uc740 \ub9ac\uc2a4\ud2b8\ub97c \uc6d0\uc18c\ub85c \ubc1b\ub294 MySet\ud074\ub798\uc2a4\uc758 staticmethod\uc774\uba70 staticmethod\uc774\uae30 \ub54c\ubb38\uc5d0 \uc778\uc2a4\ud134\uc2a4\ub97c \uc0dd\uc131\ud558\uc9c0 \uc54a\uace0 \ud074\ub798\uc2a4\uba85\uc73c\ub85c \ud638\ucd9c\uc774 \uac00\ub2a5\ud558\ub2e4. \uc704\uc5d0\uc11c \uc0dd\uc131\uc790\uc5d0 \uc758\ud574 \ud638\ucd9c\uc774 \ub418\uba70 \uc774 \ud568\uc218\ub294 \ud568\uc218\uba85 \uadf8\ub300\ub85c \uc911\ubcf5\ub41c \uc6d0\uc18c\ub97c \uc81c\uac70\ud574\uc8fc\ub294 \uae30\ub2a5\uc744 \uac16\ub294\ub2e4. \ube48 \ub9ac\uc2a4\ud2b8 s\ub97c \ub9cc\ub4e4\uace0 \ud30c\ub77c\ubbf8\ud130\ub85c \ubc1b\uc740 \ub9ac\uc2a4\ud2b8 l\uc758 \uac01\uac01\uc758 \uc6d0\uc18c\ub4e4\uc5d0 \ub300\ud574\uc11c s\uc5d0 \ud558\ub098\uc529 \uc911\ubcf5\uac80\uc0ac\ub97c \ud558\uba70 \ub123\uc5b4 \uc900\ub2e4. \uadf8\ub7f0 \ud6c4 \ub2e4\uc2dc l[:]\uc744 \uc774\uc6a9\ud574 \ud604\uc7ac l\uc548\uc5d0 \uc788\ub294 \ubaa8\ub4e0 \uc6d0\uc18c\ub4e4\uc744 []\ub85c \uce58\ud658\ud574 \uc900\ub2e4. \uadf8\ub7f0 \ud6c4 s\ub9ac\uc2a4\ud2b8\uc5d0 \uc788\ub294 \uac01\uac01\uc758 \uc6d0\uc18c\ub97c \ub2e4\uc2dc l\uc5d0 \ub123\uc5b4\uc8fc\uc5b4 \uc911\ubcf5\uc744 \uc81c\uac70\ud558\ub294 \ud568\uc218\uc774\ub2e4."
     ]
    },
    {
     "cell_type": "markdown",
     "metadata": {},
     "source": [
      "###[5\ubc88 \ubb38\uc81c]\n",
      "4\ubc88 \ubb38\uc81c\uc5d0 \uc815\uc758\ub41c MySet \ud074\ub798\uc2a4\uc5d0 \uba54\uc18c\ub4dc\ub97c \ucd94\uac00\ud558\uc5ec \ub2e4\uc74c \uac01 \uc694\uad6c\uc0ac\ud56d \ubaa8\ub450\ub97c \ub9cc\uc871\uc2dc\ud0a4\ub294 \ucf54\ub529\uc744 \uc81c\uc2dc\ud558\uc2dc\uc624\n",
      "\n",
      "- \uc815\ub2f5\uc744 \uac01 \uc694\uad6c\uc0ac\ud56d\ubcc4\ub85c \uc785\ub825\ud560 \ud544\uc694 \uc5c6\uc774 \uc694\uad6c\uc0ac\ud56d 3\uac1c \uc804\uccb4\uc5d0 \ub300\ud574 1\uac1c\uc758 MySet \ud074\ub798\uc2a4 \uc815\uc758 \ucf54\ub4dc\ub97c \uc81c\uc2dc\ud558\uace0 \uc8fc\uc11d\ub4f1\uc73c\ub85c \ud574\ub2f9 \ucf54\ub4dc\ub97c \uc124\uba85\ud55c\ub2e4.\n",
      "- \uc694\uad6c\uc0ac\ud56d 1. | \uc5f0\uc0b0\uc73c\ub85c \ub450 \uc9d1\ud569\uc758 \ud569\uc9d1\ud569\uc744 \ubc18\ud658\ud55c\ub2e4.\n",
      "\n",
      "> \\>>> u = s | t \n",
      "\n",
      "> \\>>> print u \n",
      "\n",
      "> MySet: {1, 2, 3, 4, 5, 6, 7, 8, 9} \n",
      "\n",
      "- \uc694\uad6c\uc0ac\ud56d 2. & \uc5f0\uc0b0\uc73c\ub85c \ub450 \uc9d1\ud569\uc758 \uad50\uc9d1\ud569\uc744 \ubc18\ud658\ud55c\ub2e4.\n",
      "\n",
      "> \\>>> u = s & t \n",
      "\n",
      "> \\>>> print u \n",
      "\n",
      "> MySet: {2, 3} \n",
      "\n",
      "- \uc694\uad6c\uc0ac\ud56d 3. - \uc5f0\uc0b0\uc73c\ub85c \ub450 \uc9d1\ud569\uc758 \ucc28\uc9d1\ud569\uc744 \ubc18\ud658\ud55c\ub2e4.\n",
      "\n",
      "> \\>>> s = MySet([1, 2, 3]) \n",
      "\n",
      "> \\>>> t = MySet([3, 4, 5]) \n",
      "\n",
      "> \\>>> u = s - t \n",
      "\n",
      "> \\>>> print u \n",
      "\n",
      "> MySet: {1} "
     ]
    },
    {
     "cell_type": "code",
     "collapsed": false,
     "input": [
      "u = s | t\n",
      "print u\n",
      "\n",
      "u = s & t\n",
      "print u\n",
      "\n",
      "s = MySet([1,2,3])\n",
      "t = MySet([3,4,5])\n",
      "u = s - t\n",
      "print u"
     ],
     "language": "python",
     "metadata": {},
     "outputs": [
      {
       "output_type": "stream",
       "stream": "stdout",
       "text": [
        "MySet: {1 ,2 ,3 ,4 ,5 ,6 ,7 ,8 ,9}\n",
        "MySet: {2 ,3}\n",
        "MySet: {1 ,2}\n"
       ]
      }
     ],
     "prompt_number": 49
    },
    {
     "cell_type": "markdown",
     "metadata": {},
     "source": [
      "###[6\ubc88 \ubb38\uc81c]\n",
      "5\ubc88 \ubb38\uc81c\uc5d0\uc11c \uc815\uc758\ud55c MySet \ud074\ub798\uc2a4\uc5d0 \ub300\ud574 \ub2e4\uc74c \uc608\uc81c\ub97c \uc218\ud589\ud558\uba74 \uc624\ub958\uc5c6\uc774 \uc62c\ubc14\ub974\uac8c \ub3d9\uc791\ud558\ub294 \uac83\uc744 \ud655\uc778\ud560 \uc218 \uc788\ub2e4. \ub2e4\uc74c \uc608\uc81c \ub0b4\uc5d0 \uc788\ub294 len(), bool() \ub0b4\uc7a5\ud568\uc218\uc640 in \ud0a4\uc6cc\ub4dc \uc0ac\uc6a9 \uc608\uc81c\uac00 \ubcc4\ub2e4\ub978 \uba54\uc18c\ub4dc \uc815\uc758\ub97c \ud558\uc9c0 \uc54a\uc558\ub294 \ub370\ub3c4 \uc62c\ubc14\ub974\uac8c \uc218\ud589\ub418\ub294 \uc774\uc720\ub97c \uc124\uba85\ud558\uc2dc\uc624.\n",
      "\n",
      "> \\>\\>\\> s = MySet([1, 2, 3, 4, 5, 6])  <br/>\n",
      "> \\>\\>\\> print len(s)  <br/>\n",
      "> 6 <br/>\n",
      "> \\>\\>\\> print bool(s)  <br/>\n",
      "> True <br/>\n",
      "> \\>\\>\\> print 2 in s  <br/>\n",
      "> True <br/>"
     ]
    },
    {
     "cell_type": "code",
     "collapsed": false,
     "input": [
      "s = MySet([1,2,3,4,5,6])\n",
      "print len(s)\n",
      "\n",
      "print bool(s)\n",
      "\n",
      "print 2 in s\n"
     ],
     "language": "python",
     "metadata": {},
     "outputs": [
      {
       "output_type": "stream",
       "stream": "stdout",
       "text": [
        "6\n",
        "True\n",
        "True\n"
       ]
      }
     ],
     "prompt_number": 50
    },
    {
     "cell_type": "markdown",
     "metadata": {},
     "source": [
      "\uadf8 \uc774\uc720\ub294 MySet\ud074\ub798\uc2a4\ub294 list\ud074\ub798\uc2a4\ub97c \uc0c1\uc18d\ubc1b\uace0 \uc788\uae30 \ub54c\ubb38\uc5d0 list\ud074\ub798\uc2a4\uac00 \uc774\ubbf8 \uc124\uc815\ud574 \ub193\uc740 len, bool, in\ud0a4\uc6cc\ub4dc\uc5d0 \ub300\ud55c \uacb0\uacfc\ub97c \uadf8\ub300\ub85c \uc0ac\uc6a9\ud560 \uc218 \uc788\ub2e4."
     ]
    },
    {
     "cell_type": "markdown",
     "metadata": {},
     "source": [
      "###[7\ubc88 \ubb38\uc81c]\n",
      "\ud504\ub85c\uc81d\ud2b8 \uc624\uc77c\ub7ec \ubb38\uc81c 16"
     ]
    },
    {
     "cell_type": "markdown",
     "metadata": {},
     "source": [
      "2^15 = 32768 \uc758 \uac01 \uc790\ub9ac\uc218\ub97c \ub354\ud558\uba74 3 + 2 + 7 + 6 + 8 = 26 \uc785\ub2c8\ub2e4.\n",
      "\n",
      "2^1000\uc758 \uac01 \uc790\ub9ac\uc218\ub97c \ubaa8\ub450 \ub354\ud558\uba74 \uc5bc\ub9c8\uc785\ub2c8\uae4c?"
     ]
    },
    {
     "cell_type": "code",
     "collapsed": false,
     "input": [
      "print sum(int(k) for k in str(pow(2,15)))"
     ],
     "language": "python",
     "metadata": {},
     "outputs": [
      {
       "output_type": "stream",
       "stream": "stdout",
       "text": [
        "26\n"
       ]
      }
     ],
     "prompt_number": 3
    },
    {
     "cell_type": "code",
     "collapsed": false,
     "input": [
      "print sum(int(k) for k in str(pow(2,1000)))"
     ],
     "language": "python",
     "metadata": {},
     "outputs": [
      {
       "output_type": "stream",
       "stream": "stdout",
       "text": [
        "1366\n"
       ]
      }
     ],
     "prompt_number": 4
    },
    {
     "cell_type": "markdown",
     "metadata": {},
     "source": [
      "\ubc1c\uc0dd\uc790 \uad6c\ubb38\uc744 \uc774\uc6a9\ud574 2\uc758 1000\uc81c\uacf1\uc22b\uc790\ub97c \ub9cc\ub4e4\uc5b4 \ubb38\uc790\ud654 \uc2dc\ucf1c\uc900 \ud6c4 \uadf8 \ub0b4\ubd80\uc801\uc73c\ub85c \ubb38\uc790\uc5d0 \ub300\ud574 \ub2e4\uc2dc \uc815\uc218\ud615\uc73c\ub85c \ubc14\uafb8\uc5b4 \uac01 \uc790\ub9ac \uc22b\uc790\ub97c \ub354\ud574 \uc900\ub2e4."
     ]
    },
    {
     "cell_type": "markdown",
     "metadata": {},
     "source": [
      "###[8\ubc88 \ubb38\uc81c]\n",
      "\ud504\ub85c\uc81d\ud2b8 \uc624\uc77c\ub7ec \ubb38\uc81c 17"
     ]
    },
    {
     "cell_type": "code",
     "collapsed": false,
     "input": [],
     "language": "python",
     "metadata": {},
     "outputs": []
    }
   ],
   "metadata": {}
  }
 ]
}