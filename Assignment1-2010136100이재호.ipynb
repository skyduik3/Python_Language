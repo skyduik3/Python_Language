{
 "metadata": {
  "name": ""
 },
 "nbformat": 3,
 "nbformat_minor": 0,
 "worksheets": [
  {
   "cells": [
    {
     "cell_type": "markdown",
     "metadata": {},
     "source": [
      "# **Assignment1**"
     ]
    },
    {
     "cell_type": "markdown",
     "metadata": {},
     "source": [
      " ##### * \uacfc\ubaa9     : \uc2a4\ud06c\ub9bd\ud2b8 \ud504\ub85c\uadf8\ub798\ubc0d\n",
      " ##### * \ub2f4\ub2f9 \uad50\uc218 : \ud55c\uc5f0\ud76c \uad50\uc218\ub2d8\n",
      " ##### * \ud559\ubc88     : 2010136100\n",
      " ##### * \uc774\ub984     : \uc774\uc7ac\ud638"
     ]
    },
    {
     "cell_type": "markdown",
     "metadata": {},
     "source": [
      "* a=\"Hello Python\" \ubb38\uc790\uc5f4\uc744 Slicing\uacfc \uc5f0\uacb0 \uc5f0\uc0b0\uc790 (+)\ub97c \uc0ac\uc6a9\ud558\uc5ec \"Python Hello\"\ub85c \ubcc0\uacbd\ud558\uc2dc\uc624.\n",
      "   * [\uc8fc\uc758] a \ubcc0\uc218 \uc790\uccb4\uc5d0 \"Python Hello\" \ubb38\uc790\uc5f4\uc774 \uc800\uc7a5\ub418\uc5b4\uc57c \ud568 "
     ]
    },
    {
     "cell_type": "code",
     "collapsed": false,
     "input": [
      "a = \"Hello Python\"\n",
      "a = a[6:] + ' ' + a[:5]\n",
      "print a"
     ],
     "language": "python",
     "metadata": {},
     "outputs": [
      {
       "output_type": "stream",
       "stream": "stdout",
       "text": [
        "Python Hello\n"
       ]
      }
     ],
     "prompt_number": 3
    },
    {
     "cell_type": "markdown",
     "metadata": {},
     "source": [
      "######*\"Hello Python\" \ubb38\uc790\uc5f4\uc744 \uc55e\ubd80\ubd84\uacfc \ub4b7\ubd80\ubd84\uc744 \uc2ac\ub77c\uc774\uc2f1 \ud558\uace0 \uac00\uc6b4\ub370 ' '\uc744 \uc774\uc6a9\ud574 \uacf5\ubc31\uc744 \ub123\uc5b4\uc900 \ud6c4 \ub2e4\uc2dc a \ubcc0\uc218\uc5d0 \ubb38\uc790\uc5f4\uc744 \ud560\ub2f9\ud574 \uc8fc\uc5c8\ub2e4.*"
     ]
    },
    {
     "cell_type": "markdown",
     "metadata": {},
     "source": [
      "* b=\"Hello Python World\" \ubb38\uc790\uc5f4\uc744 Slicing\uacfc \uc5f0\uacb0 \uc5f0\uc0b0\uc790 (+)\ub97c \uc0ac\uc6a9\ud558\uc5ec \"World Python Hello\"\ub85c \ubcc0\uacbd\ud558\uc2dc\uc624.\n",
      "    * [\uc8fc\uc758] b \ubcc0\uc218 \uc790\uccb4\uc5d0 \"Python Hello\" \ubb38\uc790\uc5f4\uc774 \uc800\uc7a5\ub418\uc5b4\uc57c \ud568"
     ]
    },
    {
     "cell_type": "code",
     "collapsed": false,
     "input": [
      "b = \"Hello Python World\"\n",
      "b = b[13:] + ' ' + b[6:13] + b[:5]\n",
      "print b"
     ],
     "language": "python",
     "metadata": {},
     "outputs": [
      {
       "output_type": "stream",
       "stream": "stdout",
       "text": [
        "World Python Hello\n"
       ]
      }
     ],
     "prompt_number": 4
    },
    {
     "cell_type": "markdown",
     "metadata": {},
     "source": [
      "######*\ub9c8\ucc2c\uac00\uc9c0\ub85c \"Hello Python World\" \ubb38\uc790\uc5f4\uc744 'World', 'Python ', 'Hello' \ub85c \uc2ac\ub77c\uc774\uc2f1\ud55c \ud6c4 b \ubcc0\uc218\uc5d0 \ud560\ub2f9\ud574 \uc8fc\uc5c8\ub2e4.*"
     ]
    },
    {
     "cell_type": "markdown",
     "metadata": {},
     "source": [
      "* c=\"Hello\"\ub97c \"olleH\"\ub85c \ubcc0\uacbd\ud558\uc2dc\uc624\n",
      "    * [\uc8fc\uc758] c \ubcc0\uc218 \uc790\uccb4\uc5d0 \"olleH\" \ubb38\uc790\uc5f4\uc774 \uc800\uc7a5\ub418\uc5b4\uc57c \ud568"
     ]
    },
    {
     "cell_type": "code",
     "collapsed": false,
     "input": [
      "c = \"Hello\"\n",
      "c = c[::-1]\n",
      "print c"
     ],
     "language": "python",
     "metadata": {},
     "outputs": [
      {
       "output_type": "stream",
       "stream": "stdout",
       "text": [
        "olleH\n"
       ]
      }
     ],
     "prompt_number": 20
    },
    {
     "cell_type": "markdown",
     "metadata": {},
     "source": [
      "######*c\uc5d0 \uc800\uc7a5\ub41c \ubb38\uc790\uc5f4 'Hello'\ub97c \uc5ed\uc73c\ub85c \uc2ac\ub77c\uc774\uc2f1\uc744 \ud574 \uc800\uc7a5\ud574 \uc8fc\uc5c8\ub2e4.*"
     ]
    },
    {
     "cell_type": "markdown",
     "metadata": {},
     "source": [
      "* s=\"python\"\uc5d0 \ub300\ud574 \ub2e4\uc74c \ubb38\uc81c\ub97c \ud480\uc5b4\ubcf4\uc2dc\uc624.\n",
      "    1. s[0], s[0][0], s[0][0][0]\uc740 \uac01\uac01 \uc5b4\ub5a4 \uac12\uc774 \ub098\uc624\ub294\uc9c0 \ud655\uc778\ud558\uace0 \uadf8 \uc774\uc720\ub97c \ub098\ub984\ub300\ub85c \uc124\uba85\ud574 \ubcf4\uc2dc\uc624.\n",
      "    2. s[-100], s[100]\uc740 \uac12\uc774 \ub098\uc624\ub294\uc9c0 \uc5d0\ub7ec\uac00 \ub098\uc624\ub294\uc9c0 \ud655\uc778\ud558\uace0 \uadf8 \uacb0\uacfc\uc5d0 \ub300\ud55c \uc774\uc720\ub97c \ub098\ub984\ub300\ub85c \uc124\uba85\ud574 \ubcf4\uc2dc\uc624.\n",
      "    3. s[-100, 100]\uc740 \uac12\uc774 \ub098\uc624\ub294\uc9c0 \uc5d0\ub7ec\uac00 \ub098\uc624\ub294\uc9c0 \ud655\uc778\ud558\uace0 \uadf8 \uacb0\uacfc\uc5d0 \ub300\ud55c \uc774\uc720\ub97c \ub098\ub984\ub300\ub85c \uc124\uba85\ud574 \ubcf4\uc2dc\uc624.\n",
      "    4. s[1:-1]\uc758 \uacb0\uacfc\ub97c \ud655\uc778\ud558\uace0 \uadf8 \uacb0\uacfc\uc5d0 \ub300\ud55c \uc774\uc720\ub97c \uc815\ud655\ud558\uac8c \uc124\uba85\ud558\uc2dc\uc624.\n",
      "    5. s[3:-3]\uc758 \uacb0\uacfc\ub97c \ud655\uc778\ud558\uace0 \uadf8 \uacb0\uacfc\uc5d0 \ub300\ud55c \uc774\uc720\ub97c \uc815\ud655\ud558\uac8c \uc124\uba85\ud558\uc2dc\uc624."
     ]
    },
    {
     "cell_type": "code",
     "collapsed": false,
     "input": [
      "s = \"python\"\n",
      "print s[0], s[0][0], s[0][0][0]"
     ],
     "language": "python",
     "metadata": {},
     "outputs": [
      {
       "output_type": "stream",
       "stream": "stdout",
       "text": [
        "p p p\n"
       ]
      }
     ],
     "prompt_number": 22
    },
    {
     "cell_type": "markdown",
     "metadata": {},
     "source": [
      "######*s[0]\uc740 \ubb38\uc790\uc5f4\uc744 \uc778\ub371\uc2a4\uac12\uc744 \uc774\uc6a9\ud574 \uc120\ud0dd\ud558\ub294 \uad6c\ubb38\uc774\ubbc0\ub85c 'python'\uc758 \uccab \ubc88\uc9f8 \ubb38\uc790\uc778 'p'\uac00 \ucd9c\ub825\ub41c\ub2e4.*\n",
      "######*s[0][0] \uc740 s[0]\uc758 \ubb38\uc790\uc5f4 \uc911\uc5d0\uc11c \uccab \ubc88\uc9f8 \uc778\ub371\uc2a4\ub97c \uac00\ub974\ud0a4\ubbc0\ub85c 'p'\ubb38\uc790\uc5f4 \uc911\uc5d0\uc11c \uccab\ubc88\uc9f8 \uc778\ub371\uc2a4\uc778 'p'\uac00 \ucd9c\ub825\ub41c\ub2e4.*\n",
      "######*\ub9c8\ucc2c\uac00\uc9c0\ub85c s[0][0][0] \uc740 s[0][0]\uc758 \ubb38\uc790\uc5f4 \uc911\uc5d0\uc11c \uccab \ubc88\uc9f8 \uc778\ub371\uc2a4\ub97c \uac00\ub974\ud0a4\ubbc0\ub85c 'p'\ubb38\uc790\uc5f4 \uc911\uc5d0\uc11c \uccab\ubc88\uc9f8 \uc778\ub371\uc2a4\uc778 'p'\uac00 \ucd9c\ub825\ub41c\ub2e4.*"
     ]
    },
    {
     "cell_type": "code",
     "collapsed": false,
     "input": [
      "print s[-100]\n",
      "print s[100]"
     ],
     "language": "python",
     "metadata": {},
     "outputs": [
      {
       "ename": "IndexError",
       "evalue": "string index out of range",
       "output_type": "pyerr",
       "traceback": [
        "\u001b[0;31m---------------------------------------------------------------------------\u001b[0m\n\u001b[0;31mIndexError\u001b[0m                                Traceback (most recent call last)",
        "\u001b[0;32m<ipython-input-27-5fd8451e4b3f>\u001b[0m in \u001b[0;36m<module>\u001b[0;34m()\u001b[0m\n\u001b[0;32m----> 1\u001b[0;31m \u001b[0;32mprint\u001b[0m \u001b[0ms\u001b[0m\u001b[0;34m[\u001b[0m\u001b[0;34m-\u001b[0m\u001b[0;36m100\u001b[0m\u001b[0;34m]\u001b[0m\u001b[0;34m\u001b[0m\u001b[0m\n\u001b[0m\u001b[1;32m      2\u001b[0m \u001b[0;32mprint\u001b[0m \u001b[0ms\u001b[0m\u001b[0;34m[\u001b[0m\u001b[0;36m100\u001b[0m\u001b[0;34m]\u001b[0m\u001b[0;34m\u001b[0m\u001b[0m\n",
        "\u001b[0;31mIndexError\u001b[0m: string index out of range"
       ]
      }
     ],
     "prompt_number": 27
    },
    {
     "cell_type": "markdown",
     "metadata": {},
     "source": [
      "######* s\ub294 \ud604\uc7ac \ubb38\uc790\uc5f4 'python'\uc744 \uc800\uc7a5\ud558\uace0 \uc788\uc9c0\ub9cc index\ub294 0\uc5d0\uc11c \ubd80\ud130 5\uae4c\uc9c0\uc774\uae30 \ub54c\ubb38\uc5d0 s[-100]\uacfcs[100]\uc740 index\ubc94\uc704\uac00 \ubc97\uc5b4\ub098\ubbc0\ub85c \uc5d0\ub7ec\uac00 \ucd9c\ub825\ub41c\ub2e4.*"
     ]
    },
    {
     "cell_type": "code",
     "collapsed": false,
     "input": [
      "print s[-100, 100]"
     ],
     "language": "python",
     "metadata": {},
     "outputs": [
      {
       "ename": "TypeError",
       "evalue": "string indices must be integers, not tuple",
       "output_type": "pyerr",
       "traceback": [
        "\u001b[0;31m---------------------------------------------------------------------------\u001b[0m\n\u001b[0;31mTypeError\u001b[0m                                 Traceback (most recent call last)",
        "\u001b[0;32m<ipython-input-28-682bda7d6434>\u001b[0m in \u001b[0;36m<module>\u001b[0;34m()\u001b[0m\n\u001b[0;32m----> 1\u001b[0;31m \u001b[0;32mprint\u001b[0m \u001b[0ms\u001b[0m\u001b[0;34m[\u001b[0m\u001b[0;34m-\u001b[0m\u001b[0;36m100\u001b[0m\u001b[0;34m,\u001b[0m \u001b[0;36m100\u001b[0m\u001b[0;34m]\u001b[0m\u001b[0;34m\u001b[0m\u001b[0m\n\u001b[0m",
        "\u001b[0;31mTypeError\u001b[0m: string indices must be integers, not tuple"
       ]
      }
     ],
     "prompt_number": 28
    },
    {
     "cell_type": "markdown",
     "metadata": {},
     "source": [
      "######*\ud604\uc7ac s[-100,100]\uc740 index \uac12\uc73c\ub85c \"-100,100\"\uc774\ub77c\ub294 \uac12\uc744 \uc4f0\uace0 \uc788\ub294\ub370 \uc5d0\ub7ec \uba54\uc138\uc9c0\ub97c \ubcf4\uba74 \uc774 \uac12\uc740 \ud29c\ud50c\ub85c \uc778\uc2dd\uc774 \ub41c\ub2e4. \ubb38\uc790\uc5f4\uc758 index\uac12\uc740 \uc815\uc218\ud615\uc73c\ub85c \uc791\uc131\ud558\uc5ec\uc57c \ud558\uae30 \ub54c\ubb38\uc5d0 \uc5d0\ub7ec\uac00 \ub09c\ub2e4.*"
     ]
    },
    {
     "cell_type": "code",
     "collapsed": false,
     "input": [
      "print s[1:-1]"
     ],
     "language": "python",
     "metadata": {},
     "outputs": [
      {
       "output_type": "stream",
       "stream": "stdout",
       "text": [
        "ytho\n"
       ]
      }
     ],
     "prompt_number": 39
    },
    {
     "cell_type": "markdown",
     "metadata": {},
     "source": [
      "######* s[1:-1] \uc740 \uc2dc\uc791 index \uac00 1 \ubd80\ud130 \uc885\ub8cc index -1\uae4c\uc9c0 \uc2ac\ub77c\uc774\uc2f1\uc744 \ud558\ub77c\ub294 \uad6c\ubb38\uc774\ub2e4. *\n",
      "######* s = \"python\"\uc5d0\uc11c \ubb38\uc790\uc5f4\uc758 index \uac12\uc744 \uc74c\uc218\ub85c \uc778\uc2dd\ud558\uba74 -5 \ubd80\ud130 0\uae4c\uc9c0 \uc774\ubbc0\ub85c  *\n",
      "######* s = [1:-1] \uc740 index 1 \uc5d0 \ud574\ub2f9\ud558\ub294 y \ubd80\ud130 index -1\uc5d0 \ud574\ub2f9\ud558\ub294 o\uae4c\uc9c0 \uc2ac\ub77c\uc774\uc2f1\uc744 \ud558\uac8c \ub41c\ub2e4. *"
     ]
    },
    {
     "cell_type": "code",
     "collapsed": false,
     "input": [
      "print s[3:-3]"
     ],
     "language": "python",
     "metadata": {},
     "outputs": [
      {
       "output_type": "stream",
       "stream": "stdout",
       "text": [
        "\n"
       ]
      }
     ],
     "prompt_number": 40
    },
    {
     "cell_type": "markdown",
     "metadata": {},
     "source": [
      "######* index 3\ubd80\ud130 -3\uae4c\uc9c0 \uc2ac\ub77c\uc774\uc2f1\uc744 \ud558\ub77c\ub294 \uad6c\ubb38\uc774\ub2e4. *\n",
      "######* index 3\uc5d0 \ud574\ub2f9\ud558\ub294 \ubb38\uc790\ub294 'h'\uc774\uba70, index -3\uc5d0 \ud574\ub2f9\ud558\ub294 \ubb38\uc790\ub294 't'\uc774\ub2e4.*\n",
      "######* 'h'\ubb38\uc790\uc640 't'\ubb38\uc790 \uc0ac\uc774\uc758 \uac04\uaca9\uc740 -1 \ucc28\uc774\uc774\ubbc0\ub85c Step\uc774 \uae30\ubcf8\uc801\uc73c\ub85c 1\ub85c \uc124\uc815\ub418\uc5b4 \uc788\uae30 \ub54c\ubb38\uc5d0 \uc2ac\ub77c\uc774\uc2f1\uc744 \ud558\uc9c0 \uc54a\ub294\ub2e4.*"
     ]
    },
    {
     "cell_type": "markdown",
     "metadata": {},
     "source": [
      "* for\ubb38\uc744 \ud65c\uc6a9\ud558\uc5ec 1\ubd80\ud130 100\uc0ac\uc774\uc758 \ud640\uc218\ub97c \ucd9c\ub825\ud558\uc2dc\uc624."
     ]
    },
    {
     "cell_type": "code",
     "collapsed": false,
     "input": [
      "for x in range(1, 100, 2):\n",
      "    print x,"
     ],
     "language": "python",
     "metadata": {},
     "outputs": [
      {
       "output_type": "stream",
       "stream": "stdout",
       "text": [
        "1 3 5 7 9 11 13 15 17 19 21 23 25 27 29 31 33 35 37 39 41 43 45 47 49 51 53 55 57 59 61 63 65 67 69 71 73 75 77 79 81 83 85 87 89 91 93 95 97 99\n"
       ]
      }
     ],
     "prompt_number": 42
    },
    {
     "cell_type": "markdown",
     "metadata": {},
     "source": [
      "######* for\ubb38\uc758 \ucee8\ud14c\uc774\ub108\ub85c range\ud568\uc218\ub97c \uc0ac\uc6a9\ud588\ub2e4. range \ud568\uc218\uc5d0\ub294 Step\uc744 2\ub9cc\ud07c \uc8fc\uc5b4 1\ubd80\ud130 \ud640\uc218\uac12\ub9cc\uc744 \ub9ac\uc2a4\ud2b8\ub85c \uac00\uc838\uc624\uac8c \ud55c \ud6c4 \ucd9c\ub825\ud55c\ub2e4.*"
     ]
    },
    {
     "cell_type": "markdown",
     "metadata": {},
     "source": [
      "* while\ubb38\uc744 \ud65c\uc6a9\ud558\uc5ec 1\ubd80\ud130 100\uc0ac\uc774\uc758 \uc9dd\uc218\uc758 \ud569\uc744 \uacc4\uc0b0\ud558\uc5ec \ucd9c\ub825\ud558\uc2dc\uc624."
     ]
    },
    {
     "cell_type": "code",
     "collapsed": false,
     "input": [
      "sum = 0\n",
      "i = 2\n",
      "while i < 100:\n",
      "    sum += i\n",
      "    i += 2\n",
      "print sum"
     ],
     "language": "python",
     "metadata": {},
     "outputs": [
      {
       "output_type": "stream",
       "stream": "stdout",
       "text": [
        "2450\n"
       ]
      }
     ],
     "prompt_number": 55
    },
    {
     "cell_type": "markdown",
     "metadata": {},
     "source": [
      "######* sum\uc774\ub77c\ub294 \ubcc0\uc218\ub97c \ub9cc\ub4e4\uc5b4 while loop\ub0b4\uc5d0\uc11c \uc9dd\uc218 \uac12\ub4e4\uc744 \ub354 \ud55c \ud6c4 while loop \uc678\ubd80\uc5d0\uc11c \ucd9c\ub825\ubb38\uc744 \uc774\uc6a9\ud574 \ucd9c\ub825\ud55c\ub2e4.*"
     ]
    },
    {
     "cell_type": "markdown",
     "metadata": {},
     "source": [
      "* \uc0ac\uc6a9\uc790\ub85c \ubd80\ud130 \uc784\uc758\uc758 \uc815\uc218\ub97c \uc785\ub825\ubc1b\uace0, \ud574\ub2f9 \uc22b\uc790\ub97c \uc5ed\uc21c\uc73c\ub85c \ucd9c\ub825\ud558\ub294 \ud504\ub85c\uadf8\ub7a8\uc744 \uc791\uc131\ud558\uc2dc\uc624.\n",
      "\n",
      "    * [\uc2e4\ud589 \uc608]\n",
      "\n",
      "      * \uc815\uc218\ub97c \uc785\ub825\ud558\uc138\uc694: 3125\n",
      "      * \uc22b\uc790 \uc5ed\uc21c\uc740 5213 \uc785\ub2c8\ub2e4."
     ]
    },
    {
     "cell_type": "code",
     "collapsed": false,
     "input": [
      "i = input('\uc815\uc218\ub97c \uc785\ub825\ud558\uc138\uc694:')\n",
      "i = str(i)\n",
      "i = i[::-1]\n",
      "i = int(i)\n",
      "print '\uc785\ub825\ud55c \uc815\uc218\uc758 \uc5ed\uc21c\uc740:', i"
     ],
     "language": "python",
     "metadata": {},
     "outputs": [
      {
       "name": "stdout",
       "output_type": "stream",
       "stream": "stdout",
       "text": [
        "\uc815\uc218\ub97c \uc785\ub825\ud558\uc138\uc694:12345\n"
       ]
      },
      {
       "output_type": "stream",
       "stream": "stdout",
       "text": [
        "\uc785\ub825\ud55c \uc815\uc218\uc758 \uc5ed\uc21c\uc740: 54321\n"
       ]
      }
     ],
     "prompt_number": 8
    },
    {
     "cell_type": "markdown",
     "metadata": {},
     "source": [
      "######* input \ud568\uc218\ub97c \ud1b5\ud574 \uc815\uc218\ub97c \uc785\ub825\ubc1b\uc740 \ud6c4 \ub0b4\uc7a5\ud568\uc218 str\uc744 \uc774\uc6a9\ud574 \ubb38\uc790\uc5f4\ub85c \ubcc0\ud658 \ud6c4 \ubb38\uc790\uc5f4\uc744 \uc5ed \uc2ac\ub77c\uc774\uc2f1\uc744 \ud55c\ub2e4. *\n",
      "######* \uadf8 \ud6c4 \ub2e4\uc2dc \ubb38\uc790\uc5f4\uc744 \ub0b4\uc7a5\ud568\uc218 int\ub97c \uc774\uc6a9\ud574 \uc815\uc218\ud615\uc73c\ub85c \ubc14\uafbc \ud6c4 \ucd9c\ub825\ud574 \uc8fc\uc5c8\ub2e4.*"
     ]
    },
    {
     "cell_type": "markdown",
     "metadata": {},
     "source": [
      "* \uc0ac\uc6a9\uc790\ub85c \ubd80\ud130 \uc815\uc218\ub97c \uc785\ub825\ubc1b\uc544\uc11c 1\ubd80\ud130 \uadf8 \uc0ac\uc774\uc5d0 \uc874\uc7ac\ud558\ub294 \uc18c\uc218 (Prime number)\ub97c \ucd9c\ub825\ud558\ub294 \ud30c\uc774\uc36c \ud504\ub85c\uadf8\ub7a8\uc744 \uc791\uc131\ud558\uc2dc\uc624."
     ]
    },
    {
     "cell_type": "code",
     "collapsed": false,
     "input": [
      "i = input('\uc815\uc218\ub97c \uc785\ub825\ud558\uc138\uc694 :')\n",
      "\n",
      "for x in range(2, i):\n",
      "    if x is 2:\n",
      "        print x,\n",
      "\n",
      "    elif x > 2:\n",
      "        for y in range (2, x):\n",
      "            if ( x%y is 0 ):\n",
      "                break\n",
      "        else:\n",
      "            print x,"
     ],
     "language": "python",
     "metadata": {},
     "outputs": [
      {
       "name": "stdout",
       "output_type": "stream",
       "stream": "stdout",
       "text": [
        "\uc815\uc218\ub97c \uc785\ub825\ud558\uc138\uc694 :10\n"
       ]
      },
      {
       "output_type": "stream",
       "stream": "stdout",
       "text": [
        "2 3 5 7\n"
       ]
      }
     ],
     "prompt_number": 25
    },
    {
     "cell_type": "markdown",
     "metadata": {},
     "source": [
      "######* i\ubcc0\uc218\uc5d0 \uc815\uc218\ub97c \uc785\ub825\ubc1b\uc740 \ud6c4 1\ubd80\ud130 \uc785\ub825\ubc1b\uc740 \uac12 \uc0ac\uc774\uc5d0 \uc874\uc7ac\ud558\ub294 \uc18c\uc218\ub97c \ud310\ubcc4\ud558\uae30 \uc704\ud574 \ubc18\ubcf5\ubb38 for\ub97c range (2, i)\uae4c\uc9c0 \ub3cc\ub9b0\ub2e4.*\n",
      "######* 2\ub294 \uc18c\uc218 \uc774\ubbc0\ub85c \ubc14\ub85c \ucd9c\ub825\uc744 \ud574\uc8fc\uace0, 2\ubcf4\ub2e4 \ud070 \uc218\uc5d0 \ub300\ud574\uc11c\ub294 2 \ubd80\ud130 \ud574\ub2f9 \uac12 \uc804\uae4c\uc9c0\uc758 \uac12\ub4e4\uc744 \uc774\uc6a9\ud574 \ubaa8\ub4dc \uc5f0\uc0b0\uc744 \uc218\ud589\ud55c\ub2e4.*\n",
      "######* \ubaa8\ub4dc\uc5f0\uc0b0\uc744 \ud1b5\ud574 \ub098\uba38\uc9c0\uac00 0\uc778 \uac12\uc774 \uc788\uc73c\uba74 \uc18c\uc218\uac00 \uc544\ub2c8\ubbc0\ub85c break\ub97c \uc774\uc6a9\ud574 \ubc18\ubcf5\ubb38\uc744 \uc885\ub8cc\ud55c\ub2e4.*\n",
      "######* \ub9cc\uc57d \ub098\uba38\uc9c0\uac00 0\uc778 \uac12\uc774 \uc5c6\uc73c\uba74 1\uacfc \uc790\uae30 \uc790\uc2e0\ub9cc\uc744 \uc778\uc218\ub85c \uac00\uc9c0\ub294 \uc18c\uc218\uc774\ubbc0\ub85c else:\ub97c \uc774\uc6a9\ud574 \ubc18\ubcf5\ubb38\uc758 \ub9c8\uc9c0\ub9c9\uc5d0 print\ub97c \uc218\ud589\ud574\uc900\ub2e4.*"
     ]
    },
    {
     "cell_type": "markdown",
     "metadata": {},
     "source": [
      "* 10\ubcf4\ub2e4 \uc791\uc740 \uc790\uc5f0\uc218 \uc911\uc5d0\uc11c 3 \ub610\ub294 5\uc758 \ubc30\uc218\ub294 3, 5, 6, 9 \uc774\uace0, \uc774\uac83\uc744 \ubaa8\ub450 \ub354\ud558\uba74 23\uc785\ub2c8\ub2e4.\n",
      "\n",
      "* 1000\ubcf4\ub2e4 \uc791\uc740 \uc790\uc5f0\uc218 \uc911\uc5d0\uc11c 3 \ub610\ub294 5\uc758 \ubc30\uc218\ub97c \ubaa8\ub450 \ub354\ud558\uba74 \uc5bc\ub9c8\uc77c\uae4c\uc694?"
     ]
    },
    {
     "cell_type": "code",
     "collapsed": false,
     "input": [
      "sum = 0\n",
      "for x in range(1, 1000) :\n",
      "    if (x % 3) == 0 or (x % 5) == 0 :\n",
      "        sum += x\n",
      "print sum"
     ],
     "language": "python",
     "metadata": {},
     "outputs": [
      {
       "output_type": "stream",
       "stream": "stdout",
       "text": [
        "233168\n"
       ]
      }
     ],
     "prompt_number": 30
    },
    {
     "cell_type": "markdown",
     "metadata": {},
     "source": [
      "######* 3\ub610\ub294 5\uc758 \ubc30\uc218\ub294 3\uc73c\ub85c \ub098\ub204\uc5b4 \ub5a8\uc5b4\uc9c0\uac70\ub098 5\ub85c \ub098\ub204\uc5b4 \ub5a8\uc5b4\uc9c0\ub294 \uc218\uc774\ubbc0\ub85c 3 \ub610\ub294 5\ub85c \ub098\ub204\uc5b4 \ub5a8\uc5b4\uc9c0\uba74 sum\ubcc0\uc218\uc5d0 \uac12\uc744 \ub354\ud55c \ud6c4 \ucd5c\uc885\uc801\uc73c\ub85c \ucd9c\ub825\ud558\uc600\ub2e4.*"
     ]
    },
    {
     "cell_type": "markdown",
     "metadata": {},
     "source": [
      "* \ud53c\ubcf4\ub098\uce58 \uc218\uc5f4\uc758 \uac01 \ud56d\uc740 \ubc14\ub85c \uc55e\uc758 \ud56d \ub450 \uac1c\ub97c \ub354\ud55c \uac83\uc774 \ub429\ub2c8\ub2e4. 1\uacfc 2\ub85c \uc2dc\uc791\ud558\ub294 \uacbd\uc6b0 \uc774 \uc218\uc5f4\uc740 \uc544\ub798\uc640 \uac19\uc2b5\ub2c8\ub2e4.\n",
      "\n",
      "* 1, 2, 3, 5, 8, 13, 21, 34, 55, 89, ...\n",
      "* \uc9dd\uc218\uc774\uba74\uc11c 4\ubc31\ub9cc \uc774\ud558\uc778 \ubaa8\ub4e0 \ud56d\uc744 \ub354\ud558\uba74 \uc5bc\ub9c8\uac00 \ub429\ub2c8\uae4c?"
     ]
    },
    {
     "cell_type": "code",
     "collapsed": false,
     "input": [
      "sum = 0\n",
      "y = 1\n",
      "while 1:\n",
      "    Fib = Fibo(y)\n",
      "    \n",
      "    if (Fib % 2 == 0) and (Fib <= 4000000) :\n",
      "        sum += Fib\n",
      "    elif (Fib > 4000000) :\n",
      "        break\n",
      "    \n",
      "    y += 1\n",
      "        \n",
      "print sum"
     ],
     "language": "python",
     "metadata": {},
     "outputs": [
      {
       "output_type": "stream",
       "stream": "stdout",
       "text": [
        "4613732\n"
       ]
      }
     ],
     "prompt_number": 15
    },
    {
     "cell_type": "markdown",
     "metadata": {},
     "source": [
      "######* \uba3c\uc800 \ud53c\ubcf4\ub098\uce58 \uac12\uc744 \ubc18\ud658\ud574\uc8fc\ub294 \ub0b4\uc7a5\ud568\uc218\ub97c \uc774\uc6a9\ud55c\ub2e4. \ubb34\ud55c \ubc18\ubcf5\ubb38 while\ubb38 \ub0b4\ubd80\uc5d0\uc11c \uccab \ubc88\uc9f8 \ud56d\ubd80\ud130 \ud53c\ubcf4\ub098\uce58 \uc218\uc5f4 \uac12\uc744 \ubc18\ubcf5\uc801\uc73c\ub85c \uad6c\ud55c\ub2e4.*\n",
      "######* \ub9cc\uc57d \ud53c\ubcf4\ub098\uce58 \uc218\uc5f4 \uac12\uc774 \uc9dd\uc218 \uc774\uba74\uc11c 400\ub9cc \uc774\ud558\uc758 \uac12\uc774\ub77c\uba74 sum \ubcc0\uc218\uc5d0 \ub354\ud55c\ub2e4.*\n",
      "######* \uadf8\ub807\uc9c0 \uc54a\uace0 400\ub9cc \uc774\uc0c1\uc758 \uac12\uc774\ub77c\uba74 break\ub97c \uc774\uc6a9\ud574 \ubc18\ubcf5\ubb38\uc744 \ube60\uc838\ub098\uc628\ub2e4.*"
     ]
    },
    {
     "cell_type": "markdown",
     "metadata": {},
     "source": [
      "* \uc5b4\ub5a4 \uc218\ub97c \uc18c\uc218\uc758 \uacf1\uc73c\ub85c\ub9cc \ub098\ud0c0\ub0b4\ub294 \uac83\uc744 \uc18c\uc778\uc218\ubd84\ud574\ub77c \ud558\uace0, \uc774 \uc18c\uc218\ub4e4\uc744 \uadf8 \uc218\uc758 \uc18c\uc778\uc218\ub77c\uace0 \ud569\ub2c8\ub2e4.\n",
      "* \uc608\ub97c \ub4e4\uba74 13195\uc758 \uc18c\uc778\uc218\ub294 5, 7, 13, 29 \uc785\ub2c8\ub2e4.\n",
      "\n",
      "* 600851475143\uc758 \uc18c\uc778\uc218 \uc911\uc5d0\uc11c \uac00\uc7a5 \ud070 \uc218\ub97c \uad6c\ud558\uc138\uc694."
     ]
    },
    {
     "cell_type": "code",
     "collapsed": false,
     "input": [
      "def PrimaryN( n ):\n",
      "    if n is 2:\n",
      "        return True\n",
      "    \n",
      "    elif n > 2:\n",
      "        for y in xrange (2, n):\n",
      "            if ( n%y is 0 ):\n",
      "                break\n",
      "        else:\n",
      "            return True\n",
      "    return False\n",
      "\n",
      "#\uc18c\uc778\uc218\ub97c \ub123\ub294 \ubd80\ubd84\n",
      "def GetPrimary( n ):\n",
      "    # \uac12\uc744 \uc800\uc7a5\ud558\ub294 \ub9ac\uc2a4\ud2b8\n",
      "    result = []\n",
      "\n",
      "    for z in xrange(2, n) :\n",
      "        if n % z == 0 :\n",
      "            if PrimaryN( z ):\n",
      "                result += [z]\n",
      "                n /= z\n",
      "                result += GetPrimary( n )\n",
      "                break\n",
      "    else :\n",
      "        if PrimaryN( n ) :\n",
      "            result += [n]\n",
      "                \n",
      "    result = list(set(result)) \n",
      "        \n",
      "    return result\n",
      "                \n",
      "#\uc815\uc218\ub97c \uc785\ub825\ubc1b\uace0 \uc18c\uc778\uc218\ub97c \uad6c\ud574 \ub9ac\uc2a4\ud2b8\uc5d0 \ub123\ub294 \ubd80\ubd84\n",
      "num = input('\uc815\uc218\ub97c \uc785\ub825\ud558\uc138\uc694:')\n",
      "result = GetPrimary( num )\n",
      "result.sort()\n",
      "\n",
      "#\ucd9c\ub825\ud558\uae30\n",
      "if len(result) == 0 :\n",
      "    print '\uc18c\uc778\uc218\uac00 \uc874\uc7ac\ud558\uc9c0 \uc54a\uc2b5\ub2c8\ub2e4.'\n",
      "elif len(result) > 0 and result[-1] == num:\n",
      "    result.remove(num)\n",
      "    if len(result) == 0 :\n",
      "        print '\uc18c\uc778\uc218\uac00 \uc874\uc7ac\ud558\uc9c0 \uc54a\uc2b5\ub2c8\ub2e4.'\n",
      "    else :\n",
      "        print '\uc18c\uc778\uc218\ub294 :', result\n",
      "        print '\uc18c\uc778\uc218\uc911 \uc81c\uc77c \ud070 \uc218\ub294:', result[-1]\n",
      "else :\n",
      "    print '\uc18c\uc778\uc218\ub294 :', result\n",
      "    print '\uc18c\uc778\uc218\uc911 \uc81c\uc77c \ud070 \uc218\ub294:', result[-1]\n"
     ],
     "language": "python",
     "metadata": {},
     "outputs": [
      {
       "name": "stdout",
       "output_type": "stream",
       "stream": "stdout",
       "text": [
        "\uc815\uc218\ub97c \uc785\ub825\ud558\uc138\uc694:600851475143\n"
       ]
      },
      {
       "output_type": "stream",
       "stream": "stdout",
       "text": [
        "\uc18c\uc778\uc218\ub294 : [71, 839, 1471, 6857]\n",
        "\uc18c\uc778\uc218\uc911 \uc81c\uc77c \ud070 \uc218\ub294: 6857\n"
       ]
      }
     ],
     "prompt_number": 57
    },
    {
     "cell_type": "markdown",
     "metadata": {},
     "source": [
      "######* \uba3c\uc800 \ud568\uc218\ub97c \uc815\uc758\ud574\uc11c \uc18c\uc218\ub97c \ud310\ubcc4\ud574\uc8fc\ub294 \ud568\uc218\ub97c \ub9cc\ub4e4\uc5c8\ub2e4. \uc774\uc81c \uadf8\uac83\uc744 \uc774\uc6a9\ud574 \uc18c\uc778\uc218\ub97c \uad6c\ud558\ub294 \uc54c\uace0\ub9ac\uc998\uc744 \uc791\uc131\ud574 \ubcf4\uc558\ub294\ub370, \ub9cc\ub9cc\ud55c \uc54c\uace0\ub9ac\uc998\uc740 \uc544\ub2c8\uc5c8\ub2e4.*\n",
      "######* \ucc98\uc74c\uc5d0\ub294 1\ubd80\ud130 \uc785\ub825\ubc1b\uc740 \uac12\uae4c\uc9c0 \ubc18\ubcf5\ubb38\uc744 \ub3cc\ub824\uc11c \ub098\ub204\uc5b4 \ubcf8 \ud6c4 \ub098\ub204\uc5b4 \uc9c0\uba74 \uadf8\uac83\uc744 \uc18c\uc218 \ud310\ubcc4\uc744 \ud574\uc11c \ub098\ub204\uc5b4 \ub5a8\uc5b4\uc9c0\uace0 \uc18c\uc218\uc774\uba74 \ub9ac\uc2a4\ud2b8\uc5d0 \uc800\uc7a5\ud558\ub294 \ubc29\uc2dd\uc73c\ub85c \ucf54\ub529\uc744 \ud588\uc5c8\ub294\ub370, \ud070\uac12\uc774 \ub4e4\uc5b4\uac00\ub2c8 \ubc18\ubcf5\ubb38\uc774 \ub05d\ub098\uc9c0 \uc54a\uc558\ub2e4. \ud558\uc5ec \ubc29\ubc95\uc744 \ubc14\uafb8\uc5b4 \ubc18\ubcf5\ubb38\uc744 \ub3cc\ub824 \ub098\ub204\ub418 \ud568\uc218\ub85c \ub9cc\ub4e4\uc5b4 \uc7ac\uadc0 \ud638\ucd9c\uc2dd\uc73c\ub85c \ub9cc\ub4e4\uc5b4 \ubcf4\uc558\ub2e4. \ub098\ub204\uc5b4 \ub5a8\uc5b4\uc9c0\uba74 \ub098\ub208 \ubaab\uc744 \ub2e4\uc2dc \uc7ac\uadc0 \ud638\ucd9c\ud558\uc5ec \uc18c\uc218\ub97c \uad6c\ud558\ub294 \ubc29\uc2dd\uc73c\ub85c \uc9c4\ud589\ud588\ub2e4.*"
     ]
    },
    {
     "cell_type": "markdown",
     "metadata": {},
     "source": [
      "### \ub290\ub080\uc810\n",
      "#### \ub098\ub294 \uc774\ubc88 \uacfc\uc81c\ub97c \uc218\ud589\ud558\uba74\uc11c, \ud30c\uc774\uc36c\uc758 \uae30\ubcf8 \ubb38\ubc95\uc744 \uc775\ud788\ub294\ub370 \ub3c4\uc6c0\uc774 \ub42c\ub2e4. \ub2e4\ub978 \uc5b8\uc5b4\uc640\ub294 \ucc28\ubcc4\ud654\ub418\ub294 \ud30c\uc774\uc36c\ub9cc\uc758 \ud2b9\ubcc4\ud55c \ubc29\ubc95\ub4e4\uc744 \uc0ac\uc6a9\ud574 \ubcf4\uc558\ub2e4. \uc7ac\ubbf8\uc788\uc5c8\ub2e4. \ud558\uc9c0\ub9cc \uc624\uc77c\ub7ec \ubb38\uc81c\ub97c \ud574\uacb0\ud560 \ub54c\ub294 \uc2dc\uac04\uc744 \uc870\uae08 \ud22c\uc790\ud558\uc600\ub2e4. \uadf8 \uc774\uc720\ub294 \uc624\uc77c\ub7ec \ubb38\uc81c\ub294 \ub300\ubd80\ubd84 \ud070 \uac12\uc744 \uc774\uc6a9\ud574 \uc218\ud559\ubb38\uc81c\ub97c \ud480 \uc218 \uc788\ub294 \uc54c\uace0\ub9ac\uc998\uc744 \uc791\uc131\ud558\ub294\ub370 \ubaa9\uc801\uc774 \uc788\uc5c8\ub2e4. \ud558\uc5ec \uc218\ud589\uc2dc\uac04\uc774 \uc624\ub798\uac78\ub9ac\ub294 \uc54c\uace0\ub9ac\uc998\uc744 \uc544\uc608 \uc4f8 \uc218 \uc5c6\uc5c8\uae30 \ub54c\ubb38\uc774\ub2e4. \uc54c\uace0\ub9ac\uc998 \uc2dc\uac04\uc5d0 \uc65c \uc2dc\uac04\ubcf5\uc7a1\ub3c4\uc640 \uacf5\uac04\ubcf5\uc7a1\ub3c4\uc5d0 \ub300\ud574\uc11c \ud559\uc2b5\ud588\ub294\uc9c0 \uc774\uc81c\uc57c \uc54c\uac8c \ub418\uc5c8\ub2e4."
     ]
    }
   ],
   "metadata": {}
  }
 ]
}